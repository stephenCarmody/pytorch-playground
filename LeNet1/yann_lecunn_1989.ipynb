{
 "cells": [
  {
   "cell_type": "code",
   "execution_count": 59,
   "metadata": {},
   "outputs": [],
   "source": [
    "import matplotlib.pyplot as plt\n",
    "\n",
    "import numpy as np\n",
    "\n",
    "import torch\n",
    "import torch.nn as nn\n",
    "from torch.utils.data import DataLoader\n",
    "from torchvision import datasets\n",
    "from torchvision.transforms import ToTensor "
   ]
  },
  {
   "cell_type": "markdown",
   "metadata": {},
   "source": [
    "### The Architecture\n",
    "Rebuilding Yann Le Cuns papers: Handwritten Digit Recognitiion with a Back Propagation Network - [1989] \n",
    "\n",
    "The Model\n",
    "- 16 * 16 Input Images -> 28 * 28 \n",
    "- 4 Hidden Layers\n",
    "    1. Convolutional 1: 4 feature maps with 576 units (24 * 24 feature maps) 5x5 kernel\n",
    "    2. Pooling: 4 planes of 12*12 -> averaging\n",
    "    3. Convolutional 2: 12 feature maps (8*8)\n",
    "    4. Pooling: 12 feature maps, 4*4 plane \n",
    "- 10 Unit Output Layer"
   ]
  },
  {
   "cell_type": "code",
   "execution_count": 3,
   "metadata": {},
   "outputs": [],
   "source": [
    "# Download training data from open datasets.\n",
    "training_data = datasets.MNIST(\n",
    "    root=\"data\",\n",
    "    train=True,\n",
    "    download=True,\n",
    "    transform=ToTensor(),\n",
    ")\n",
    "\n",
    "# Download test data from open datasets.\n",
    "test_data = datasets.MNIST(\n",
    "    root=\"data\",\n",
    "    train=False,\n",
    "    download=True,\n",
    "    transform=ToTensor(),\n",
    ")"
   ]
  },
  {
   "cell_type": "markdown",
   "metadata": {},
   "source": [
    "## Visualize the data"
   ]
  },
  {
   "cell_type": "code",
   "execution_count": 4,
   "metadata": {},
   "outputs": [
    {
     "name": "stdout",
     "output_type": "stream",
     "text": [
      "Shape of X [N, C, H, W]: torch.Size([64, 1, 28, 28])\n",
      "Shape of y: torch.Size([64]) torch.int64\n"
     ]
    }
   ],
   "source": [
    "batch_size = 64\n",
    "\n",
    "# Create data loaders.\n",
    "train_dataloader = DataLoader(training_data, batch_size=batch_size)\n",
    "test_dataloader = DataLoader(test_data, batch_size=batch_size)\n",
    "\n",
    "for X, y in test_dataloader:\n",
    "    print(f\"Shape of X [N, C, H, W]: {X.shape}\")\n",
    "    print(f\"Shape of y: {y.shape} {y.dtype}\")\n",
    "    break"
   ]
  },
  {
   "cell_type": "code",
   "execution_count": 5,
   "metadata": {},
   "outputs": [
    {
     "data": {
      "image/png": "[encoded data removed]",
      "text/plain": [
       "<Figure size 640x480 with 1 Axes>"
      ]
     },
     "metadata": {},
     "output_type": "display_data"
    }
   ],
   "source": [
    "images, labels = next(iter(train_dataloader))\n",
    "\n",
    "images.shape\n",
    "\n",
    "plt.imshow(images[0].reshape(28,28), cmap=\"gray\");"
   ]
  },
  {
   "cell_type": "code",
   "execution_count": 6,
   "metadata": {},
   "outputs": [],
   "source": [
    "def conv_output_size(input_size: int, kernel_size: int, stride: int=1, padding: int=0) -> int:\n",
    "    output_size = ((input_size - kernel_size + 2*padding) // stride) + 1\n",
    "    return output_size\n",
    "\n"
   ]
  },
  {
   "cell_type": "code",
   "execution_count": 112,
   "metadata": {},
   "outputs": [
    {
     "name": "stdout",
     "output_type": "stream",
     "text": [
      "24\n",
      "12\n",
      "8\n",
      "4\n"
     ]
    },
    {
     "data": {
      "text/plain": [
       "192"
      ]
     },
     "execution_count": 112,
     "metadata": {},
     "output_type": "execute_result"
    }
   ],
   "source": [
    "output = conv_output_size(input_size=28, kernel_size=5)\n",
    "print(output)\n",
    "output = conv_output_size(input_size=output, kernel_size=2, stride=2)\n",
    "print(output)\n",
    "output = conv_output_size(input_size=output, kernel_size=5)\n",
    "print(output)\n",
    "output = conv_output_size(input_size=output, kernel_size=2, stride=2)\n",
    "print(output)\n",
    "(output*output) * 12\n",
    "\n"
   ]
  },
  {
   "cell_type": "code",
   "execution_count": 124,
   "metadata": {},
   "outputs": [
    {
     "name": "stdout",
     "output_type": "stream",
     "text": [
      "LeNet1(\n",
      "  (conv_stack): Sequential(\n",
      "    (0): Conv2d(1, 4, kernel_size=(5, 5), stride=(1, 1), padding=(1, 1))\n",
      "    (1): AvgPool2d(kernel_size=2, stride=2, padding=0)\n",
      "    (2): Tanh()\n",
      "    (3): Conv2d(4, 12, kernel_size=(5, 5), stride=(1, 1))\n",
      "    (4): AvgPool2d(kernel_size=2, stride=2, padding=0)\n",
      "    (5): Tanh()\n",
      "  )\n",
      "  (flatten): Flatten(start_dim=1, end_dim=-1)\n",
      "  (fc_layer): Sequential(\n",
      "    (0): Linear(in_features=192, out_features=10, bias=True)\n",
      "    (1): Sigmoid()\n",
      "  )\n",
      ")\n"
     ]
    }
   ],
   "source": [
    "torch.cuda.is_available(), torch.backends.mps.is_available()\n",
    "device = \"cpu\"\n",
    "\n",
    "class LeNet1(nn.Module):\n",
    "    def __init__(self):\n",
    "        super().__init__()\n",
    "        self.conv_stack = nn.Sequential(\n",
    "            nn.Conv2d(in_channels = 1, out_channels=4, kernel_size=5, stride=1, padding=1),\n",
    "            nn.AvgPool2d(kernel_size=2, stride=2),\n",
    "            nn.Tanh(),\n",
    "            nn.Conv2d(in_channels = 4, out_channels=12, kernel_size=5, stride=1),\n",
    "            nn.AvgPool2d(kernel_size=2, stride=2),\n",
    "            nn.Tanh(),\n",
    "        )\n",
    "        self.flatten = nn.Flatten()\n",
    "\n",
    "        self.fc_layer = nn.Sequential(\n",
    "            nn.Linear(192, 10), # Number of pixels, number of outputs. \n",
    "            nn.Sigmoid(),\n",
    "        )\n",
    "\n",
    "    def forward(self, x):\n",
    "        x = self.conv_stack(x)\n",
    "        x = self.flatten(x)\n",
    "        logits = self.fc_layer(x)\n",
    "        return logits\n",
    "\n",
    "model = LeNet1().to(device)\n",
    "print(model)"
   ]
  },
  {
   "cell_type": "code",
   "execution_count": 134,
   "metadata": {},
   "outputs": [
    {
     "name": "stdout",
     "output_type": "stream",
     "text": [
      "Epoch 1\n",
      "-------------------------------\n",
      "loss: 1.780376  [   64/60000]\n",
      "loss: 1.775467  [ 6464/60000]\n",
      "loss: 1.747072  [12864/60000]\n",
      "loss: 1.758295  [19264/60000]\n",
      "loss: 1.729470  [25664/60000]\n",
      "loss: 1.757061  [32064/60000]\n",
      "loss: 1.719339  [38464/60000]\n",
      "loss: 1.741969  [44864/60000]\n",
      "loss: 1.763383  [51264/60000]\n",
      "loss: 1.742507  [57664/60000]\n",
      "Epoch 2\n",
      "-------------------------------\n",
      "loss: 1.739160  [   64/60000]\n",
      "loss: 1.739158  [ 6464/60000]\n",
      "loss: 1.708689  [12864/60000]\n",
      "loss: 1.726284  [19264/60000]\n",
      "loss: 1.702631  [25664/60000]\n",
      "loss: 1.729144  [32064/60000]\n",
      "loss: 1.688149  [38464/60000]\n",
      "loss: 1.711325  [44864/60000]\n",
      "loss: 1.733086  [51264/60000]\n",
      "loss: 1.715143  [57664/60000]\n",
      "Epoch 3\n",
      "-------------------------------\n",
      "loss: 1.712253  [   64/60000]\n",
      "loss: 1.715023  [ 6464/60000]\n",
      "loss: 1.684253  [12864/60000]\n",
      "loss: 1.705965  [19264/60000]\n",
      "loss: 1.685454  [25664/60000]\n",
      "loss: 1.710947  [32064/60000]\n",
      "loss: 1.666684  [38464/60000]\n",
      "loss: 1.690044  [44864/60000]\n",
      "loss: 1.711311  [51264/60000]\n",
      "loss: 1.695109  [57664/60000]\n",
      "Epoch 4\n",
      "-------------------------------\n",
      "loss: 1.692686  [   64/60000]\n",
      "loss: 1.697310  [ 6464/60000]\n",
      "loss: 1.666950  [12864/60000]\n",
      "loss: 1.691610  [19264/60000]\n",
      "loss: 1.673051  [25664/60000]\n",
      "loss: 1.697766  [32064/60000]\n",
      "loss: 1.650748  [38464/60000]\n",
      "loss: 1.674107  [44864/60000]\n",
      "loss: 1.694682  [51264/60000]\n",
      "loss: 1.679503  [57664/60000]\n",
      "Epoch 5\n",
      "-------------------------------\n",
      "loss: 1.677568  [   64/60000]\n",
      "loss: 1.683508  [ 6464/60000]\n",
      "loss: 1.653820  [12864/60000]\n",
      "loss: 1.680663  [19264/60000]\n",
      "loss: 1.663403  [25664/60000]\n",
      "loss: 1.687467  [32064/60000]\n",
      "loss: 1.638344  [38464/60000]\n",
      "loss: 1.661569  [44864/60000]\n",
      "loss: 1.681428  [51264/60000]\n",
      "loss: 1.666874  [57664/60000]\n",
      "Done!\n"
     ]
    }
   ],
   "source": [
    "class NetworkTrainer():\n",
    "\n",
    "    def __init__(self, model: nn.Module, learning_rate: float = 0.01) -> None:\n",
    "        self.loss_fn = nn.CrossEntropyLoss()\n",
    "        self.optimizer = torch.optim.SGD(model.parameters(), lr=learning_rate)\n",
    "        self.model = model\n",
    "\n",
    "\n",
    "    def train(self, dataloader, model, loss_fn, optimizer):\n",
    "        size = len(dataloader.dataset)\n",
    "        model.train()\n",
    "        for batch, (X, y) in enumerate(dataloader):\n",
    "            X, y = X.to(device), y.to(device)\n",
    "\n",
    "            # Compute prediction error\n",
    "            pred = model(X)\n",
    "            loss = loss_fn(pred, y)\n",
    "\n",
    "            # Backpropagation\n",
    "            loss.backward()\n",
    "            optimizer.step()\n",
    "            optimizer.zero_grad()\n",
    "\n",
    "            if batch % 100 == 0:\n",
    "                loss, current = loss.item(), (batch + 1) * len(X)\n",
    "                print(f\"loss: {loss:>7f}  [{current:>5d}/{size:>5d}]\")\n",
    "\n",
    "    def run(self, epochs: int = 5):\n",
    "        for t in range(epochs):\n",
    "            print(f\"Epoch {t+1}\\n-------------------------------\")\n",
    "            self.train(train_dataloader, self.model, self.loss_fn, self.optimizer)\n",
    "            #test(test_dataloader, model, loss_fn)\n",
    "        print(\"Done!\")\n",
    "\n",
    "NetworkTrainer(model=model, learning_rate=0.01).run(epochs=5)"
   ]
  },
  {
   "cell_type": "markdown",
   "metadata": {},
   "source": [
    "## Random Evaluation"
   ]
  },
  {
   "cell_type": "code",
   "execution_count": 1,
   "metadata": {},
   "outputs": [
    {
     "ename": "NameError",
     "evalue": "name 'np' is not defined",
     "output_type": "error",
     "traceback": [
      "\u001b[0;31m---------------------------------------------------------------------------\u001b[0m",
      "\u001b[0;31mNameError\u001b[0m                                 Traceback (most recent call last)",
      "Cell \u001b[0;32mIn[1], line 1\u001b[0m\n\u001b[0;32m----> 1\u001b[0m image_idx \u001b[39m=\u001b[39m np\u001b[39m.\u001b[39mrandom\u001b[39m.\u001b[39mrandint(\u001b[39m64\u001b[39m)\n\u001b[1;32m      3\u001b[0m model\u001b[39m.\u001b[39meval()  \u001b[39m# Set the model to evaluation mode\u001b[39;00m\n\u001b[1;32m      5\u001b[0m \u001b[39mwith\u001b[39;00m torch\u001b[39m.\u001b[39mno_grad():  \u001b[39m# Temporarily turn off gradient descent\u001b[39;00m\n",
      "\u001b[0;31mNameError\u001b[0m: name 'np' is not defined"
     ]
    }
   ],
   "source": [
    "image_idx = np.random.randint(64)\n",
    "\n",
    "model.eval()  # Set the model to evaluation mode\n",
    "\n",
    "with torch.no_grad():  # Temporarily turn off gradient descent\n",
    "    data = images[image_idx].unsqueeze(0).to(device)\n",
    "    output = model(data)\n",
    "    _, predicted = torch.max(output.data, 1)\n",
    "\n",
    "print(training_data.classes[predicted[0].item()])\n",
    "plt.imshow(images[image_idx].reshape(28,28), cmap=\"gray\");"
   ]
  }
 ],
 "metadata": {
  "kernelspec": {
   "display_name": ".venv",
   "language": "python",
   "name": "python3"
  },
  "language_info": {
   "codemirror_mode": {
    "name": "ipython",
    "version": 3
   },
   "file_extension": ".py",
   "mimetype": "text/x-python",
   "name": "python",
   "nbconvert_exporter": "python",
   "pygments_lexer": "ipython3",
   "version": "3.11.4"
  },
  "orig_nbformat": 4
 },
 "nbformat": 4,
 "nbformat_minor": 2
}
